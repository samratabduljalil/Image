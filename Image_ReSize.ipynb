{
  "nbformat": 4,
  "nbformat_minor": 0,
  "metadata": {
    "colab": {
      "provenance": [],
      "authorship_tag": "ABX9TyOKywDkOzoPAoBgKv4Shnf2",
      "include_colab_link": true
    },
    "kernelspec": {
      "name": "python3",
      "display_name": "Python 3"
    },
    "language_info": {
      "name": "python"
    }
  },
  "cells": [
    {
      "cell_type": "markdown",
      "metadata": {
        "id": "view-in-github",
        "colab_type": "text"
      },
      "source": [
        "<a href=\"https://colab.research.google.com/github/Samrat-Abdul-Jalil/Image/blob/main/Image_ReSize.ipynb\" target=\"_parent\"><img src=\"https://colab.research.google.com/assets/colab-badge.svg\" alt=\"Open In Colab\"/></a>"
      ]
    },
    {
      "cell_type": "code",
      "execution_count": 1,
      "metadata": {
        "id": "elFbg0Y-IZ0n",
        "colab": {
          "base_uri": "https://localhost:8080/"
        },
        "outputId": "32b38161-0eba-4775-a88d-bedbca702fa1"
      },
      "outputs": [
        {
          "output_type": "stream",
          "name": "stdout",
          "text": [
            "Mounted at /content/drive\n"
          ]
        }
      ],
      "source": [
        "from google.colab import drive\n",
        "drive.mount('/content/drive')"
      ]
    },
    {
      "cell_type": "code",
      "source": [
        "#reSize image 1 by 1\n",
        "import cv2\n",
        "\n",
        "try:\n",
        "    img=cv2.imread('/content/drive/MyDrive/Untitled folder/1.JPG') #image segmented one by one\n",
        "    \n",
        "\n",
        "    im_resize=cv2.resize(img2,(224,224))\n",
        "    cv2.imwrite('/content/drive/MyDrive/Untitled folder/100.JPG',im_resize)\n",
        "    print(\"done  \")\n",
        "    im_resize=0\n",
        "except:\n",
        "    print(\"not Done\")"
      ],
      "metadata": {
        "colab": {
          "base_uri": "https://localhost:8080/"
        },
        "id": "5vKm7kSVJtJd",
        "outputId": "d5f168ef-f0c0-4aeb-aaf4-8bb76700b974"
      },
      "execution_count": 3,
      "outputs": [
        {
          "output_type": "stream",
          "name": "stdout",
          "text": [
            "done  \n"
          ]
        }
      ]
    }
  ]
}